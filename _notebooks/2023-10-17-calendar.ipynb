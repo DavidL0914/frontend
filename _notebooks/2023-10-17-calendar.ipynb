{
 "cells": [
  {
   "cell_type": "markdown",
   "metadata": {},
   "source": [
    "---\n",
    "toc: true\n",
    "comments: true\n",
    "layout: \n",
    "title: To-Do List\n",
    "description: App where user can keep track of their tasks.\n",
    "type: plans\n",
    "courses: { csse: {week: 1}, csp: {week: 1, categories: [4.A]}, csa: {week: 0} }\n",
    "---"
   ]
  },
  {
   "cell_type": "code",
   "execution_count": 1,
   "metadata": {},
   "outputs": [],
   "source": [
    "import calendar\n",
    "\n",
    "def display_calendar(year, month):\n",
    "    cal = calendar.month(year, month)\n",
    "    return cal\n",
    "\n",
    "if __name__ == \"__main__\":\n",
    "    while True:\n",
    "        year = int(input(\"Enter year (e.g., 2023): \"))\n",
    "        month = int(input(\"Enter month (1-12): \"))\n",
    "\n",
    "        if 1 <= month <= 12:\n",
    "            break\n",
    "        else:\n",
    "            print(\"Invalid month. Please enter a month between 1 and 12.\")\n",
    "\n",
    "    cal_text = display_calendar(year, month)\n",
    "    print(f\"Calendar for {calendar.month_name[month]} {year}:\\n\")\n",
    "    print(cal_text)"
   ]
  }
 ],
 "metadata": {
  "kernelspec": {
   "display_name": "Python 3",
   "language": "python",
   "name": "python3"
  },
  "language_info": {
   "codemirror_mode": {
    "name": "ipython",
    "version": 3
   },
   "file_extension": ".py",
   "mimetype": "text/x-python",
   "name": "python",
   "nbconvert_exporter": "python",
   "pygments_lexer": "ipython3",
   "version": "3.11.4"
  },
  "orig_nbformat": 4
 },
 "nbformat": 4,
 "nbformat_minor": 2
}
