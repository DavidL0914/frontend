{
 "cells": [
  {
   "cell_type": "markdown",
   "metadata": {},
   "source": [
    "---\n",
    "toc: true\n",
    "comments: true\n",
    "layout: \n",
    "title: To-Do List\n",
    "description: App where user can keep track of their tasks.\n",
    "type: plans\n",
    "courses: { csse: {week: 1}, csp: {week: 1, categories: [4.A]}, csa: {week: 0} }\n",
    "---"
   ]
  },
  {
   "cell_type": "code",
   "execution_count": 4,
   "metadata": {},
   "outputs": [
    {
     "name": "stdout",
     "output_type": "stream",
     "text": [
      "Calendar for October 2023:\n",
      "\n",
      "    October 20 (skibi toilet)23\n",
      "Mo Tu We Th Fr Sa Su\n",
      "                   1\n",
      " 2  3  4  5  6  7  8\n",
      " 9 10 11 12 13 14 15\n",
      "16 17 18 19 20 21 22\n",
      "23 24 25 26 27 28 29\n",
      "30 31\n",
      "\n"
     ]
    }
   ],
   "source": [
    "import calendar\n",
    "\n",
    "def display_calendar(year, month, events):\n",
    "    cal = calendar.month(year, month)\n",
    "    events_for_month = events.get((year, month), {})\n",
    "\n",
    "    for day in range(1, calendar.monthrange(year, month)[1] + 1):\n",
    "        day_events = events_for_month.get(day, [])\n",
    "        if day_events:\n",
    "            cal = cal.replace(f\"{day:2}\", f\"{day:2} ({', '.join(day_events)})\", 1)\n",
    "\n",
    "    return cal\n",
    "\n",
    "if __name__ == \"__main__\":\n",
    "    events = {}\n",
    "\n",
    "    while True:\n",
    "        year = int(input(\"Enter year (e.g., 2023): \"))\n",
    "        month = int(input(\"Enter month (1-12): \"))\n",
    "\n",
    "        if 1 <= month <= 12:\n",
    "            break\n",
    "        else:\n",
    "            print(\"Invalid month. Please enter a month between 1 and 12.\")\n",
    "\n",
    "    while True:\n",
    "        day = int(input(\"Enter day (1-31): \"))\n",
    "        if 1 <= day <= 31:\n",
    "            event = input(\"Enter event for this day: \")\n",
    "            if (year, month) not in events:\n",
    "                events[(year, month)] = {}\n",
    "            if day in events[(year, month)]:\n",
    "                events[(year, month)][day].append(event)\n",
    "            else:\n",
    "                events[(year, month)][day] = [event]\n",
    "            more_events = input(\"Do you want to add more events for this month? (yes/no): \")\n",
    "            if more_events.lower() != \"yes\":\n",
    "                break\n",
    "        else:\n",
    "            print(\"Invalid day. Please enter a day between 1 and 31.\")\n",
    "\n",
    "    cal_text = display_calendar(year, month, events)\n",
    "    print(f\"Calendar for {calendar.month_name[month]} {year}:\\n\")\n",
    "    print(cal_text)\n"
   ]
  }
 ],
 "metadata": {
  "kernelspec": {
   "display_name": "Python 3",
   "language": "python",
   "name": "python3"
  },
  "language_info": {
   "codemirror_mode": {
    "name": "ipython",
    "version": 3
   },
   "file_extension": ".py",
   "mimetype": "text/x-python",
   "name": "python",
   "nbconvert_exporter": "python",
   "pygments_lexer": "ipython3",
   "version": "3.11.4"
  },
  "orig_nbformat": 4
 },
 "nbformat": 4,
 "nbformat_minor": 2
}
