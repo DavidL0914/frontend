{
 "cells": [
  {
   "cell_type": "markdown",
   "metadata": {},
   "source": [
    "---\n",
    "toc: true\n",
    "comments: true\n",
    "layout: \n",
    "title: To-Do List\n",
    "description: App where user can keep track of their tasks.\n",
    "type: plans\n",
    "courses: { csse: {week: 1}, csp: {week: 1, categories: [4.A]}, csa: {week: 0} }\n",
    "---"
   ]
  },
  {
   "cell_type": "code",
   "execution_count": null,
   "metadata": {},
   "outputs": [],
   "source": [
    "tasks = {}\n",
    "def addTask(taskName, dueDate):\n",
    "    if taskName not in tasks:\n",
    "        tasks[taskName] = dueDate\n",
    "        print(f\"Task '{taskName}' added with due date {dueDate}.\")\n",
    "    else:\n",
    "        print(f\"Task '{taskName}' already exists.\")\n",
    "def removeTask(taskName):\n",
    "    if taskName in tasks:\n",
    "        del tasks[taskName]\n",
    "        print(f\"Task '{taskName}' removed.\")\n",
    "    else:\n",
    "        print(f\"Task '{taskName}' not found.\")\n",
    "def listTasks():\n",
    "    if tasks:\n",
    "        print(\"Tasks:\")\n",
    "        for task, dueDate in tasks.items():\n",
    "            print(f\" - {task} (Due: {dueDate})\")\n",
    "    else:\n",
    "        print(\"You have no tasks.\")\n",
    "while True:\n",
    "    print(\"To-Do List\")\n",
    "    print(\"Add Task\")\n",
    "    print(\"Remove Task\")\n",
    "    print(\"Show Tasks\")\n",
    "    print(\"Close\")\n",
    "    choice = input(\"Enter your choice (Add/Remove/Show/Close): \").lower()\n",
    "    if choice == \"add\":\n",
    "        taskName = input(\"Enter task name: \")\n",
    "        dueDate = input(\"Enter due date: \")\n",
    "        addTask(taskName, dueDate)\n",
    "    elif choice == \"remove\":\n",
    "        taskName = input(\"Enter task name to remove: \")\n",
    "        removeTask(taskName)\n",
    "    elif choice == \"show\":\n",
    "        listTasks()\n",
    "    elif choice == \"close\":\n",
    "        break\n",
    "    else:\n",
    "        print(\"Invalid choice, please choose either Add/Remove/Show/Close\")"
   ]
  }
 ],
 "metadata": {
  "language_info": {
   "name": "python"
  },
  "orig_nbformat": 4
 },
 "nbformat": 4,
 "nbformat_minor": 2
}
